{
 "cells": [
  {
   "cell_type": "code",
   "execution_count": 1,
   "metadata": {},
   "outputs": [],
   "source": [
    "import glob"
   ]
  },
  {
   "cell_type": "code",
   "execution_count": 2,
   "metadata": {},
   "outputs": [],
   "source": [
    "x = glob.glob('Annotations/*')"
   ]
  },
  {
   "cell_type": "code",
   "execution_count": 68,
   "metadata": {},
   "outputs": [],
   "source": [
    "import xml.etree.ElementTree as ET\n",
    "s = set()\n",
    "for i in x:\n",
    "    tree = ET.parse(i)\n",
    "    root = tree.getroot()\n",
    "    for obj in root.findall('object'):\n",
    "        name = obj.find('name').text\n",
    "        bnd_box = obj.find('bndbox')\n",
    "\n",
    "        bbox = [\n",
    "            int(float(bnd_box.find('xmin').text)),\n",
    "            int(float(bnd_box.find('ymin').text)),\n",
    "            int(float(bnd_box.find('xmax').text)),\n",
    "            int(float(bnd_box.find('ymax').text))\n",
    "        ]\n",
    "        bbox[0] = min(max(bbox[0], 0), 512)\n",
    "        bbox[1] = min(max(bbox[1], 0), 512)\n",
    "        bbox[2] = min(max(bbox[2], 0), 512)\n",
    "        bbox[3] = min(max(bbox[3], 0), 512)\n",
    "\n",
    "        area = (bbox[2] - bbox[0]) * (bbox[3] - bbox[1])\n",
    "        s.add(area)"
   ]
  },
  {
   "cell_type": "code",
   "execution_count": 71,
   "metadata": {},
   "outputs": [
    {
     "data": {
      "text/plain": [
       "True"
      ]
     },
     "execution_count": 71,
     "metadata": {},
     "output_type": "execute_result"
    }
   ],
   "source": [
    "2500 in s"
   ]
  },
  {
   "cell_type": "code",
   "execution_count": null,
   "metadata": {},
   "outputs": [],
   "source": []
  }
 ],
 "metadata": {
  "kernelspec": {
   "display_name": "Python 3 (ipykernel)",
   "language": "python",
   "name": "python3"
  },
  "language_info": {
   "codemirror_mode": {
    "name": "ipython",
    "version": 3
   },
   "file_extension": ".py",
   "mimetype": "text/x-python",
   "name": "python",
   "nbconvert_exporter": "python",
   "pygments_lexer": "ipython3",
   "version": "3.7.4"
  }
 },
 "nbformat": 4,
 "nbformat_minor": 4
}
